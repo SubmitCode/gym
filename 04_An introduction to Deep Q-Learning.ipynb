{
 "cells": [
  {
   "cell_type": "markdown",
   "metadata": {},
   "source": [
    "# An introduction to Deep Q-Learning: let’s play Doom\n",
    "\n",
    "## Problems\n",
    "- Avoid forgetting previous experiences: This could be done with a \"replay buffer\"\n",
    "- Reducing correlation between experiences: This can be solved by sampling from the replay buffer\n",
    "\n",
    "## Remember\n",
    "\n",
    "- $NewQ(s,a)=Q(s,a)+\\alpha[R(s,a) + \\gamma maxQ^\\prime(s^\\prime,a^\\prime) - Q(s,a)]$\n",
    "- with neural nets we have to update the weights as following \n",
    "$\\Delta w = \\alpha [(R + \\gamma max_\\alpha \\hat{Q} (s^\\prime, a, w)) - \\hat{Q} (s,a,w)] \\bigtriangledown_w \\hat{Q} (s,a,w)$"
   ]
  },
  {
   "cell_type": "markdown",
   "metadata": {},
   "source": [
    "## Step 1: Import the libraries"
   ]
  },
  {
   "cell_type": "code",
   "execution_count": 17,
   "metadata": {},
   "outputs": [],
   "source": [
    "import tensorflow as tf\n",
    "import numpy as np\n",
    "from vizdoom import * \n",
    "\n",
    "import random\n",
    "import time\n",
    "from skimage import transform\n",
    "\n",
    "from collections import deque\n",
    "import matplotlib.pyplot as plt\n",
    "\n",
    "import warnings\n",
    "warnings.filterwarnings('ignore')"
   ]
  },
  {
   "cell_type": "markdown",
   "metadata": {},
   "source": [
    "## Step 2: Create our environment\n",
    "\n"
   ]
  }
 ],
 "metadata": {
  "kernelspec": {
   "display_name": "Python 3",
   "language": "python",
   "name": "python3"
  },
  "language_info": {
   "codemirror_mode": {
    "name": "ipython",
    "version": 3
   },
   "file_extension": ".py",
   "mimetype": "text/x-python",
   "name": "python",
   "nbconvert_exporter": "python",
   "pygments_lexer": "ipython3",
   "version": "3.6.6"
  }
 },
 "nbformat": 4,
 "nbformat_minor": 2
}
