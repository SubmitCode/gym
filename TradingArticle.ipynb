{
 "cells": [
  {
   "cell_type": "markdown",
   "metadata": {},
   "source": [
    "# Reinforcement Learning - for Trading Bitcoins Part I\n",
    "\n",
    "\n",
    "![Mario being played by a Neural Network](pics/mario.gif)\n",
    "\n",
    "[Understanding Genetic Neural Networks](https://murchie85.github.io/evotetris.html) Adam McMurchie (2017)\n",
    "\n",
    "## 1. Intro\n",
    "IMHO reinforcment learning is one of the most promising fields in AI right now. If you follow how AI and how it has evolved over the last years you recognize that there were two main breakthroughs. Computer Vision and Deep Reinforcment Learning. Some very good posts and papers have been written about AI. If you want an introduction check out below links.\n",
    "\n",
    "__Introductions__\n",
    "- [An introduction to Reinforcement Learning - Thomas Simonini](https://medium.freecodecamp.org/an-introduction-to-reinforcement-learning-4339519de419)\n",
    "- [An introduction to Reinforcement Learning - Arxiv Insights](https://www.youtube.com/watch?v=JgvyzIkgxF0)\n",
    "- [Self Learning AI-Agents Part I: Markov Decision Processes - Artem Oppermann](https://towardsdatascience.com/self-learning-ai-agents-part-i-markov-decision-processes-baf6b8fc4c5f)\n",
    "\n",
    "\n",
    "__Interesting stuff related to reinforcement learning__\n",
    "- [Human-level control through Deep Reinforcement Learning (Deep Mind)](https://deepmind.com/research/dqn/)\n",
    "- https://gym.openai.com/\n",
    "  \n",
    "In this notebook I want to apply reinforcement learning on trading. \n",
    "    \n",
    "    \n",
    "## 1. Quick primer on reinforcement learning \n",
    "\n",
    "\n",
    "![title](pics/RL_schematic.jpeg)\n",
    "\n",
    "[Self Learning AI-Agents - Artem Oppermann (2018)](https://towardsdatascience.com/self-learning-ai-agents-part-i-markov-decision-processes-baf6b8fc4c5f) \n"
   ]
  },
  {
   "cell_type": "markdown",
   "metadata": {},
   "source": []
  }
 ],
 "metadata": {
  "kernelspec": {
   "display_name": "Python 3",
   "language": "python",
   "name": "python3"
  },
  "language_info": {
   "codemirror_mode": {
    "name": "ipython",
    "version": 3
   },
   "file_extension": ".py",
   "mimetype": "text/x-python",
   "name": "python",
   "nbconvert_exporter": "python",
   "pygments_lexer": "ipython3",
   "version": "3.7.0"
  }
 },
 "nbformat": 4,
 "nbformat_minor": 2
}
