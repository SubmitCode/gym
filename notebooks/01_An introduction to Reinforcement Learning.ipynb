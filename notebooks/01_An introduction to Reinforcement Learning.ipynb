{
 "cells": [
  {
   "cell_type": "markdown",
   "metadata": {},
   "source": [
    "# An introduction to Reinforcement Learning\n",
    "\n",
    "## The central idea of the Reward Hypothesis\n",
    "So the goal is to maximise the reward which can be defined as\n",
    "\n",
    "\n",
    "$G_t = \\sum^{\\infty}_{k=0}\\gamma^kR_{t+k+1} where \\gamma \\in [0,1] $\n",
    "\n",
    "## Episodic or Continuing tasks\n",
    "\n",
    "There are two type of tasks:\n",
    "- Episodic like super mario game\n",
    "- continuous tasks like stock trading\n",
    "\n",
    "\n",
    "## learning methods\n",
    "- Collecting the rewards at the end of the episode and then calculating the maximum expected future reward: Monte Carlo Approach\n",
    "- Estimate the rewards at each step: Temporal Difference Learning\n",
    "\n",
    "## Exploration/Exploitation trade off\n",
    "- Exploration is finding more information about the environment.\n",
    "- Exploitation is exploiting known information to maximize the reward.\n",
    "\n",
    "## Three approaches to Reinforcement Learning\n",
    "\n",
    "- Value Based\n",
    "- Policy Based\n",
    "- Model Based\n",
    "\n",
    "\n",
    "## Q-learning algorithm"
   ]
  }
 ],
 "metadata": {
  "kernelspec": {
   "display_name": "Python 3",
   "language": "python",
   "name": "python3"
  },
  "language_info": {
   "codemirror_mode": {
    "name": "ipython",
    "version": 3
   },
   "file_extension": ".py",
   "mimetype": "text/x-python",
   "name": "python",
   "nbconvert_exporter": "python",
   "pygments_lexer": "ipython3",
   "version": "3.7.0"
  }
 },
 "nbformat": 4,
 "nbformat_minor": 2
}
